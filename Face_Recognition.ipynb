{
  "nbformat": 4,
  "nbformat_minor": 0,
  "metadata": {
    "colab": {
      "name": "Face_Recognition.ipynb",
      "provenance": [],
      "collapsed_sections": []
    },
    "kernelspec": {
      "name": "python3",
      "display_name": "Python 3"
    },
    "accelerator": "TPU"
  },
  "cells": [
    {
      "cell_type": "code",
      "metadata": {
        "id": "vQq1iL1lDeSf",
        "outputId": "3636fe24-afea-4030-988c-34481c20ec0f",
        "colab": {
          "base_uri": "https://localhost:8080/"
        }
      },
      "source": [
        "from google.colab import drive\n",
        "drive.mount('/content/drive')"
      ],
      "execution_count": 2,
      "outputs": [
        {
          "output_type": "stream",
          "text": [
            "Mounted at /content/drive\n"
          ],
          "name": "stdout"
        }
      ]
    },
    {
      "cell_type": "markdown",
      "metadata": {
        "id": "g92Xp8PGFh-0"
      },
      "source": [
        "# Imports"
      ]
    },
    {
      "cell_type": "code",
      "metadata": {
        "id": "fkrQyg0nFS3S"
      },
      "source": [
        "import numpy as np\n",
        "from PIL import Image \n",
        "from sklearn.neighbors import KNeighborsClassifier \n",
        "import matplotlib.pyplot as plt "
      ],
      "execution_count": 3,
      "outputs": []
    },
    {
      "cell_type": "markdown",
      "metadata": {
        "id": "7fmR6E8WH5Z1"
      },
      "source": [
        "# Loading Data\n",
        "## Dimensiom of data is 400 * 10304"
      ]
    },
    {
      "cell_type": "code",
      "metadata": {
        "id": "pAnpvrJ_D9wo"
      },
      "source": [
        "D = np.zeros((400,10304))\n",
        "datasetPath = \"/content/drive/My Drive/dataset/\"\n",
        "   \n",
        "for subject in range(40):\n",
        "    subjectPath = datasetPath + \"s\" + str(subject + 1)\n",
        "    for image in range(10):\n",
        "        filePath = subjectPath +\"/\" + str(image + 1) + \".pgm\"\n",
        "        im = Image.open(filePath)\n",
        "        D[subject * 10 + image,:] = np.asarray(im).T.flatten()\n"
      ],
      "execution_count": 4,
      "outputs": []
    },
    {
      "cell_type": "markdown",
      "metadata": {
        "id": "C31ZqzYPIX_z"
      },
      "source": [
        "# Generate the label vector y"
      ]
    },
    {
      "cell_type": "code",
      "metadata": {
        "id": "HKbcIAlkIbjW"
      },
      "source": [
        "y = np.zeros((400,))\n",
        "for i in range(40):\n",
        "    for j in range (10):\n",
        "        y[i * 10 + j] = i + 1;"
      ],
      "execution_count": 6,
      "outputs": []
    },
    {
      "cell_type": "markdown",
      "metadata": {
        "id": "T_P0VU28IoA3"
      },
      "source": [
        "#Spliting data to training and testing samples"
      ]
    },
    {
      "cell_type": "code",
      "metadata": {
        "id": "R59DIktwIvif"
      },
      "source": [
        "trainingData = D[::2]\n",
        "testingData = D[1::2]\n",
        "\n",
        "yTraining = y[::2]\n",
        "yTesting = y[1::2]\n",
        "\n",
        "# change the dimentions into d*n where d (10304) is the number of featires and \n",
        "# n(200) is the number of samples in each\n",
        "trainingData = trainingData.T\n",
        "testingData = testingData.T\n",
        "n = 200\n",
        "d = 10304"
      ],
      "execution_count": 7,
      "outputs": []
    },
    {
      "cell_type": "markdown",
      "metadata": {
        "id": "aDBBWTNBJJbQ"
      },
      "source": [
        "# PCA algorithm"
      ]
    },
    {
      "cell_type": "code",
      "metadata": {
        "id": "VxHhgNEPJNup"
      },
      "source": [
        "\n",
        "#compute mean\n",
        "mean = np.mean(trainingData, axis=1).reshape((d, 1))\n",
        "\n",
        "# center the data\n",
        "Z = trainingData - mean @ np.ones((1, n))\n",
        "\n",
        "# compute covariance matrix  \n",
        "covMat = (Z @ Z.T) / n  "
      ],
      "execution_count": 8,
      "outputs": []
    },
    {
      "cell_type": "markdown",
      "metadata": {
        "id": "MkuCu7PzbNbW"
      },
      "source": [
        "##comupting eigenvalues and eigenvectors of the covariance matrix\n"
      ]
    },
    {
      "cell_type": "code",
      "metadata": {
        "id": "7kcGbX8jbRSB"
      },
      "source": [
        "eigenVal, eigenVec = np.linalg.eigh(covMat)\n",
        "# sorting eigenVal and eigenVec\n",
        "indices = eigenVal.argsort()[::-1]\n",
        "eigenVal = eigenVal[indices]\n",
        "eigenVec = eigenVec[:,indices]"
      ],
      "execution_count": 9,
      "outputs": []
    },
    {
      "cell_type": "markdown",
      "metadata": {
        "id": "Fyi5k6oZbZgh"
      },
      "source": [
        "## helper function to find projection matrix according to alpha"
      ]
    },
    {
      "cell_type": "code",
      "metadata": {
        "id": "-WL-xv-Pbd_Z"
      },
      "source": [
        "def projectionMatrix(eigenVal, eigenVec, alpha):\n",
        "    req = 0\n",
        "    numberOfAxis = 0\n",
        "    eigenValSum = np.sum(eigenVal)\n",
        "    for i in range(eigenVal.size):\n",
        "        numberOfAxis = i ;\n",
        "        req = req + eigenVal[i]\n",
        "        ratio = req / eigenValSum\n",
        "        if(ratio >= alpha):\n",
        "            break\n",
        "    U = eigenVec[:,:numberOfAxis + 1]\n",
        "    return U"
      ],
      "execution_count": 10,
      "outputs": []
    },
    {
      "cell_type": "code",
      "metadata": {
        "id": "DKWDykJ_b39E",
        "outputId": "ff88c25d-19d1-48a7-904b-6a61fc1b4937",
        "colab": {
          "base_uri": "https://localhost:8080/",
          "height": 351
        }
      },
      "source": [
        "alphas = np.array([0.8,0.85,0.9,0.95])\n",
        "comparision = np.empty((4, 10))\n",
        "for alpha in range (alphas.size):\n",
        "  U = projectionMatrix(eigenVal, eigenVec, alphas[alpha])\n",
        "  projTrainData = U.T @ trainingData;\n",
        "  projTestData = U.T @ testingData;\n",
        "\n",
        "  neighbors = np.arange(1, 11) \n",
        "  test_accuracy = np.empty(len(neighbors)) \n",
        "  for i, k in enumerate(neighbors): \n",
        "    knn = KNeighborsClassifier(n_neighbors=k) \n",
        "    knn.fit(projTrainData.T,yTraining ) \n",
        "\n",
        "    # Compute test data accuracy \n",
        "    test_accuracy[i] = knn.score(projTestData.T, yTesting)\n",
        "  plt.plot(neighbors, test_accuracy, label = 'alpha = ' + str(alphas[alpha])) \n",
        "  comparision[alpha] = test_accuracy\n",
        "print(comparision)\n",
        "plt.legend() \n",
        "plt.xlabel('n_neighbors') \n",
        "plt.ylabel('Accuracy') \n",
        "plt.show() "
      ],
      "execution_count": 11,
      "outputs": [
        {
          "output_type": "stream",
          "text": [
            "[[0.95  0.865 0.895 0.86  0.85  0.825 0.805 0.78  0.78  0.77 ]\n",
            " [0.95  0.87  0.895 0.87  0.845 0.79  0.775 0.765 0.755 0.755]\n",
            " [0.94  0.85  0.89  0.865 0.835 0.78  0.77  0.745 0.75  0.7  ]\n",
            " [0.94  0.845 0.895 0.87  0.845 0.775 0.74  0.74  0.735 0.695]]\n"
          ],
          "name": "stdout"
        },
        {
          "output_type": "display_data",
          "data": {
            "image/png": "[encoded data removed]",
            "text/plain": [
              "<Figure size 432x288 with 1 Axes>"
            ]
          },
          "metadata": {
            "tags": [],
            "needs_background": "light"
          }
        }
      ]
    },
    {
      "cell_type": "markdown",
      "metadata": {
        "id": "YCd7UtBHf5Zw"
      },
      "source": [
        "# LDA algorithm"
      ]
    },
    {
      "cell_type": "code",
      "metadata": {
        "id": "5_qZSY4XgBgv",
        "outputId": "d8c3881c-b541-4842-b1d7-8cb46b522a53",
        "colab": {
          "base_uri": "https://localhost:8080/"
        }
      },
      "source": [
        "#number of samples per class\n",
        "nk = 5\n",
        "\n",
        "#number of classes\n",
        "NoOfClasses = 40\n",
        "\n",
        "#overall mean\n",
        "overallMean = np.mean(trainingData, axis=1).reshape((d, 1))\n",
        "\n",
        "#the between-class scatter matrix\n",
        "Sb = np.zeros((d, d))\n",
        "\n",
        "#the within-class scatter matrix\n",
        "S = np.zeros((d, d))\n",
        "\n",
        "for i in range(NoOfClasses):\n",
        "  #computing mean of each class i\n",
        "  muek = np.mean(trainingData[:, nk*i : nk*(i+1)], axis=1).reshape((d, 1))\n",
        "\n",
        "  #computing the between-class scatter matrix\n",
        "  meanDiff = muek - overallMean\n",
        "  Sb = Sb + (meanDiff @ meanDiff.T) * nk\n",
        "  \n",
        "  #computing the within-class scatter matrix\n",
        "  Zi = trainingData[:, nk*i : nk*(i+1)] - muek @ np.ones((1, 5))\n",
        "  Si = Zi @ Zi.T\n",
        "  S = S + Si\n",
        "\n",
        "print(Sb.shape, S.shape)\n"
      ],
      "execution_count": 12,
      "outputs": [
        {
          "output_type": "stream",
          "text": [
            "(10304, 10304) (10304, 10304)\n"
          ],
          "name": "stdout"
        }
      ]
    },
    {
      "cell_type": "code",
      "metadata": {
        "id": "KXlVGoVxxC-H"
      },
      "source": [
        "Sinv = np.linalg.inv(S)\n",
        "SinvSb = Sinv @ Sb\n",
        "\n",
        "#compute eigenvalues and eigenvectors\n",
        "eigenVal2, eigenVec2 = np.linalg.eigh(SinvSb)\n",
        "# sorting eigenVal and eigenVec\n",
        "indices = eigenVal2.argsort()[::-1]\n",
        "#eigenVal2 = eigenVal2[indices]\n",
        "eigenVec2 = eigenVec2[:,indices]\n",
        "\n",
        "# projection matrix using the 39 dominant eigenvectors\n",
        "U = eigenVec2[:,0: 39]"
      ],
      "execution_count": 13,
      "outputs": []
    },
    {
      "cell_type": "code",
      "metadata": {
        "id": "6otu-vyYzuwW",
        "outputId": "d1f0e472-879e-4c0b-af5a-c7a5331b034a",
        "colab": {
          "base_uri": "https://localhost:8080/",
          "height": 298
        }
      },
      "source": [
        "projTrainData = U.T @ trainingData;\n",
        "projTestData = U.T @ testingData;\n",
        "neighbors = np.arange(1, 11) \n",
        "test_accuracy = np.empty(len(neighbors))\n",
        "for i, k in enumerate(neighbors): \n",
        "    knn = KNeighborsClassifier(n_neighbors=k) \n",
        "    knn.fit(projTrainData.T,yTraining ) \n",
        "    # Compute test data accuracy \n",
        "    test_accuracy[i] = knn.score(projTestData.T, yTesting)\n",
        "print(test_accuracy)\n",
        "plt.plot(neighbors, test_accuracy, label = 'testing data')\n",
        "plt.legend() \n",
        "plt.xlabel('n_neighbors') \n",
        "plt.ylabel('Accuracy') \n",
        "plt.show() "
      ],
      "execution_count": 14,
      "outputs": [
        {
          "output_type": "stream",
          "text": [
            "[0.965 0.885 0.895 0.87  0.805 0.76  0.76  0.715 0.68  0.675]\n"
          ],
          "name": "stdout"
        },
        {
          "output_type": "display_data",
          "data": {
            "image/png": "[encoded data removed]",
            "text/plain": [
              "<Figure size 432x288 with 1 Axes>"
            ]
          },
          "metadata": {
            "tags": [],
            "needs_background": "light"
          }
        }
      ]
    }
  ]
}